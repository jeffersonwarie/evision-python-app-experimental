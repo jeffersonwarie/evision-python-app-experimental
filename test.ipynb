{
 "cells": [
  {
   "attachments": {},
   "cell_type": "markdown",
   "metadata": {},
   "source": [
    "## Plotting testing"
   ]
  },
  {
   "cell_type": "code",
   "execution_count": 13,
   "metadata": {},
   "outputs": [
    {
     "name": "stdout",
     "output_type": "stream",
     "text": [
      "Keras model archive loading:\n",
      "File Name                                             Modified             Size\n",
      "metadata.json                                  2023-02-27 13:18:58           64\n",
      "config.json                                    2023-02-27 13:18:58         1931\n",
      "variables.h5                                   2023-02-27 13:18:58      5189848\n",
      "Keras weights file (<HDF5 file \"variables.h5\" (mode r)>) loading:\n",
      "...layers\n",
      "......dense\n",
      ".........vars\n",
      "............0\n",
      "............1\n",
      "......dropout\n",
      ".........vars\n",
      "......lstm\n",
      ".........cell\n",
      "............vars\n",
      "...............0\n",
      "...............1\n",
      "...............2\n",
      ".........vars\n",
      "...metrics\n",
      "......mean\n",
      ".........vars\n",
      "............0\n",
      "............1\n",
      "...optimizer\n",
      "......vars\n",
      ".........0\n",
      ".........1\n",
      ".........10\n",
      ".........2\n",
      ".........3\n",
      ".........4\n",
      ".........5\n",
      ".........6\n",
      ".........7\n",
      ".........8\n",
      ".........9\n",
      "...vars\n"
     ]
    },
    {
     "data": {
      "text/plain": [
       "dict_keys(['history', 'predictions', 'actual_data', 'confidence_interval'])"
      ]
     },
     "execution_count": 13,
     "metadata": {},
     "output_type": "execute_result"
    }
   ],
   "source": [
    "import pickle\n",
    "  \n",
    "# Open the file in binary mode\n",
    "with open('/home/k2/Work/SCU/eVision/evision-prediction-python/response.pkl', 'rb') as file:\n",
    "      \n",
    "    # Call load method to deserialze\n",
    "    response = pickle.load(file)\n",
    "  \n",
    "response.keys()"
   ]
  },
  {
   "cell_type": "code",
   "execution_count": 14,
   "metadata": {},
   "outputs": [
    {
     "data": {
      "text/plain": [
       "array([ 52671.,  55027.,  62539.,  79184., 113921.,  93323.,  69158.,\n",
       "        48685.,  34720.,  25809.,  23719.,  23930.,  23620.,  25789.,\n",
       "        28073.,  31342.,  32433.,  34811.,  38128.,  40953.,  42072.,\n",
       "        44980.,  47787.,  53380.,  54062.,  53992.,  51879.,  45240.,\n",
       "        40250.,  37830.,  34570.,  34995.,  33011.,  32613.,  32040.,\n",
       "        29647.,  28923.,  31572.,  35788.,  37529.,  38334.,  39760.,\n",
       "        44666.,  46154.,  57259.,  63472.,  75736., 109460., 139349.,\n",
       "       140147., 137393., 165087., 185776., 167327., 151793., 130083.,\n",
       "       112565.,  92119.,  67757.,  57788.,  58208.,  59247.,  61996.,\n",
       "        57705.])"
      ]
     },
     "execution_count": 14,
     "metadata": {},
     "output_type": "execute_result"
    }
   ],
   "source": [
    "response['actual_data']"
   ]
  },
  {
   "cell_type": "code",
   "execution_count": 52,
   "metadata": {},
   "outputs": [
    {
     "name": "stderr",
     "output_type": "stream",
     "text": [
      "/home/k2/Work/SCU/eVision/evision-prediction-python/.venv/lib/python3.10/site-packages/plotly/graph_objs/_deprecations.py:378: DeprecationWarning:\n",
      "\n",
      "plotly.graph_objs.Line is deprecated.\n",
      "Please replace it with one of the following more specific types\n",
      "  - plotly.graph_objs.scatter.Line\n",
      "  - plotly.graph_objs.layout.shape.Line\n",
      "  - etc.\n",
      "\n",
      "\n"
     ]
    },
    {
     "data": {
      "application/vnd.plotly.v1+json": {
       "config": {
        "plotlyServerURL": "https://plot.ly"
       },
       "data": [
        {
         "name": "Actual Data",
         "type": "scatter",
         "x": [
          1,
          2,
          3,
          4,
          5,
          6,
          7,
          8,
          9,
          10,
          11,
          12,
          13,
          14,
          15,
          16,
          17,
          18,
          19,
          20,
          21,
          22,
          23,
          24,
          25,
          26,
          27,
          28,
          29,
          30,
          31,
          32,
          33,
          34,
          35,
          36,
          37,
          38,
          39,
          40,
          41,
          42,
          43,
          44,
          45,
          46,
          47,
          48,
          49,
          50,
          51,
          52,
          53,
          54,
          55,
          56,
          57,
          58,
          59,
          60,
          61,
          62,
          63,
          64
         ],
         "y": [
          52671,
          55027,
          62539,
          79184,
          113921,
          93323,
          69158,
          48685,
          34720,
          25809,
          23719,
          23930,
          23620,
          25789,
          28073,
          31342,
          32433,
          34811,
          38128,
          40953,
          42072,
          44980,
          47787,
          53380,
          54062,
          53992,
          51879,
          45240,
          40250,
          37830,
          34570,
          34995,
          33011,
          32613,
          32040,
          29647,
          28923,
          31572,
          35788,
          37529,
          38334,
          39760,
          44666,
          46154,
          57259,
          63472,
          75736,
          109460,
          139349,
          140147,
          137393,
          165087,
          185776,
          167327,
          151793,
          130083,
          112565,
          92119,
          67757,
          57788,
          58208,
          59247,
          61996,
          57705
         ]
        },
        {
         "name": "Predictions",
         "type": "scatter",
         "x": [
          1,
          2,
          3,
          4,
          5,
          6,
          7,
          8,
          9,
          10,
          11,
          12,
          13,
          14,
          15,
          16,
          17,
          18,
          19,
          20,
          21,
          22,
          23,
          24,
          25,
          26,
          27,
          28,
          29,
          30,
          31,
          32,
          33,
          34,
          35,
          36,
          37,
          38,
          39,
          40,
          41,
          42,
          43,
          44,
          45,
          46,
          47,
          48,
          49,
          50,
          51,
          52,
          53,
          54,
          55,
          56,
          57,
          58,
          59,
          60,
          61,
          62,
          63,
          64
         ],
         "y": [
          43721.74609375,
          46106.7421875,
          42910.23046875,
          50784.0546875,
          52701.65625,
          58640.9296875,
          70842.59375,
          91936.6875,
          80143.2421875,
          63650.19921875,
          47483.82421875,
          35371.30078125,
          27216.861328125,
          25259.29296875,
          25457.857421875,
          25165.87890625,
          27198.146484375,
          29318.78125,
          32317.6640625,
          33308.94921875,
          35453.05859375,
          38404.16015625,
          40881.45703125,
          41853.734375,
          44353.78125,
          46732.1796875,
          51365.2265625,
          51920.328125,
          51863.7734375,
          50135.61328125,
          44575.90234375,
          40269.1875,
          38142.0625,
          35237.94921875,
          35619.29296875,
          33833.49609375,
          33473.58984375,
          32953.953125,
          30769.5390625,
          30104.294921875,
          32528.37890625,
          36328.359375,
          37876.140625,
          38587.23046875,
          39840.2734375,
          44085.828125,
          45352.38671875,
          54494.49609375,
          59361.35546875,
          68429.765625,
          89573.7578125,
          103687.7109375,
          104008.5078125,
          102888.921875,
          112578.9921875,
          117776.84375,
          113227.9375,
          108339.3046875,
          99749.5625,
          91228.8828125,
          79401.7734375,
          62613.77734375,
          54917.0234375,
          55250.69921875
         ]
        },
        {
         "line": {
          "width": 0
         },
         "marker": {
          "color": "#444"
         },
         "mode": "lines",
         "name": "Upper Bound",
         "showlegend": false,
         "type": "scatter",
         "x": [
          1,
          2,
          3,
          4,
          5,
          6,
          7,
          8,
          9,
          10,
          11,
          12,
          13,
          14,
          15,
          16,
          17,
          18,
          19,
          20,
          21,
          22,
          23,
          24,
          25,
          26,
          27,
          28,
          29,
          30,
          31,
          32,
          33,
          34,
          35,
          36,
          37,
          38,
          39,
          40,
          41,
          42,
          43,
          44,
          45,
          46,
          47,
          48,
          49,
          50,
          51,
          52,
          53,
          54,
          55,
          56,
          57,
          58,
          59,
          60,
          61,
          62,
          63,
          64
         ],
         "y": [
          55929.8828125,
          58980.82421875,
          54891.7734375,
          64964.15234375,
          67417.1953125,
          75014.8515625,
          90623.5078125,
          117607.5625,
          102521.1171875,
          81422.828125,
          60742.421875,
          45247.796875,
          34816.4453125,
          32312.279296875,
          32566.287109375,
          32192.78125,
          34792.5078125,
          37505.2734375,
          41341.515625,
          42609.5859375,
          45352.3828125,
          49127.5,
          52296.51953125,
          53540.27734375,
          56738.3984375,
          59780.8984375,
          65707.6015625,
          66417.703125,
          66345.3515625,
          64134.65234375,
          57022.5390625,
          51513.2890625,
          48792.21875,
          45077.2109375,
          45565.03515625,
          43280.6015625,
          42820.203125,
          42155.46875,
          39361.1171875,
          38510.1171875,
          41611.0625,
          46472.08984375,
          48452.046875,
          49361.6875,
          50964.61328125,
          56395.625,
          58015.8359375,
          69710.640625,
          75936.4375,
          87536.9609375,
          114584.8515625,
          132639.75,
          133050.125,
          131617.921875,
          144013.6875,
          150662.90625,
          144843.828125,
          138590.1875,
          127601.9765625,
          116702.125,
          101572.609375,
          80097.015625,
          70251.140625,
          70677.984375
         ]
        },
        {
         "fill": "tonexty",
         "fillcolor": "rgba(68, 0, 0, 0.2)",
         "line": {
          "width": 0
         },
         "marker": {
          "color": "#444"
         },
         "mode": "lines",
         "name": "Lower Bound",
         "showlegend": false,
         "type": "scatter",
         "x": [
          1,
          2,
          3,
          4,
          5,
          6,
          7,
          8,
          9,
          10,
          11,
          12,
          13,
          14,
          15,
          16,
          17,
          18,
          19,
          20,
          21,
          22,
          23,
          24,
          25,
          26,
          27,
          28,
          29,
          30,
          31,
          32,
          33,
          34,
          35,
          36,
          37,
          38,
          39,
          40,
          41,
          42,
          43,
          44,
          45,
          46,
          47,
          48,
          49,
          50,
          51,
          52,
          53,
          54,
          55,
          56,
          57,
          58,
          59,
          60,
          61,
          62,
          63,
          64
         ],
         "y": [
          31513.609375,
          33232.66015625,
          30928.6875,
          36603.95703125,
          37986.1171875,
          42267.0078125,
          51061.6796875,
          66265.8125,
          57765.3671875,
          45877.5703125,
          34225.2265625,
          25494.8046875,
          19617.275390625,
          18206.306640625,
          18349.427734375,
          18138.9765625,
          19603.787109375,
          21132.291015625,
          23293.814453125,
          24008.310546875,
          25553.734375,
          27680.818359375,
          29466.39453125,
          30167.19140625,
          31969.166015625,
          33683.4609375,
          37022.8515625,
          37422.95703125,
          37382.1953125,
          36136.57421875,
          32129.265625,
          29025.0859375,
          27491.904296875,
          25398.6875,
          25673.55078125,
          24386.390625,
          24126.978515625,
          23752.4375,
          22177.962890625,
          21698.470703125,
          23445.693359375,
          26184.62890625,
          27300.234375,
          27812.771484375,
          28715.93359375,
          31776.03125,
          32688.9375,
          39278.35546875,
          42786.2734375,
          49322.5703125,
          64562.6640625,
          74735.671875,
          74966.890625,
          74159.921875,
          81144.296875,
          84890.7890625,
          81612.046875,
          78088.4296875,
          71897.1484375,
          65755.640625,
          57230.9375,
          45130.54296875,
          39582.90234375,
          39823.41015625
         ]
        }
       ],
       "layout": {
        "template": {
         "data": {
          "bar": [
           {
            "error_x": {
             "color": "#2a3f5f"
            },
            "error_y": {
             "color": "#2a3f5f"
            },
            "marker": {
             "line": {
              "color": "#E5ECF6",
              "width": 0.5
             },
             "pattern": {
              "fillmode": "overlay",
              "size": 10,
              "solidity": 0.2
             }
            },
            "type": "bar"
           }
          ],
          "barpolar": [
           {
            "marker": {
             "line": {
              "color": "#E5ECF6",
              "width": 0.5
             },
             "pattern": {
              "fillmode": "overlay",
              "size": 10,
              "solidity": 0.2
             }
            },
            "type": "barpolar"
           }
          ],
          "carpet": [
           {
            "aaxis": {
             "endlinecolor": "#2a3f5f",
             "gridcolor": "white",
             "linecolor": "white",
             "minorgridcolor": "white",
             "startlinecolor": "#2a3f5f"
            },
            "baxis": {
             "endlinecolor": "#2a3f5f",
             "gridcolor": "white",
             "linecolor": "white",
             "minorgridcolor": "white",
             "startlinecolor": "#2a3f5f"
            },
            "type": "carpet"
           }
          ],
          "choropleth": [
           {
            "colorbar": {
             "outlinewidth": 0,
             "ticks": ""
            },
            "type": "choropleth"
           }
          ],
          "contour": [
           {
            "colorbar": {
             "outlinewidth": 0,
             "ticks": ""
            },
            "colorscale": [
             [
              0,
              "#0d0887"
             ],
             [
              0.1111111111111111,
              "#46039f"
             ],
             [
              0.2222222222222222,
              "#7201a8"
             ],
             [
              0.3333333333333333,
              "#9c179e"
             ],
             [
              0.4444444444444444,
              "#bd3786"
             ],
             [
              0.5555555555555556,
              "#d8576b"
             ],
             [
              0.6666666666666666,
              "#ed7953"
             ],
             [
              0.7777777777777778,
              "#fb9f3a"
             ],
             [
              0.8888888888888888,
              "#fdca26"
             ],
             [
              1,
              "#f0f921"
             ]
            ],
            "type": "contour"
           }
          ],
          "contourcarpet": [
           {
            "colorbar": {
             "outlinewidth": 0,
             "ticks": ""
            },
            "type": "contourcarpet"
           }
          ],
          "heatmap": [
           {
            "colorbar": {
             "outlinewidth": 0,
             "ticks": ""
            },
            "colorscale": [
             [
              0,
              "#0d0887"
             ],
             [
              0.1111111111111111,
              "#46039f"
             ],
             [
              0.2222222222222222,
              "#7201a8"
             ],
             [
              0.3333333333333333,
              "#9c179e"
             ],
             [
              0.4444444444444444,
              "#bd3786"
             ],
             [
              0.5555555555555556,
              "#d8576b"
             ],
             [
              0.6666666666666666,
              "#ed7953"
             ],
             [
              0.7777777777777778,
              "#fb9f3a"
             ],
             [
              0.8888888888888888,
              "#fdca26"
             ],
             [
              1,
              "#f0f921"
             ]
            ],
            "type": "heatmap"
           }
          ],
          "heatmapgl": [
           {
            "colorbar": {
             "outlinewidth": 0,
             "ticks": ""
            },
            "colorscale": [
             [
              0,
              "#0d0887"
             ],
             [
              0.1111111111111111,
              "#46039f"
             ],
             [
              0.2222222222222222,
              "#7201a8"
             ],
             [
              0.3333333333333333,
              "#9c179e"
             ],
             [
              0.4444444444444444,
              "#bd3786"
             ],
             [
              0.5555555555555556,
              "#d8576b"
             ],
             [
              0.6666666666666666,
              "#ed7953"
             ],
             [
              0.7777777777777778,
              "#fb9f3a"
             ],
             [
              0.8888888888888888,
              "#fdca26"
             ],
             [
              1,
              "#f0f921"
             ]
            ],
            "type": "heatmapgl"
           }
          ],
          "histogram": [
           {
            "marker": {
             "pattern": {
              "fillmode": "overlay",
              "size": 10,
              "solidity": 0.2
             }
            },
            "type": "histogram"
           }
          ],
          "histogram2d": [
           {
            "colorbar": {
             "outlinewidth": 0,
             "ticks": ""
            },
            "colorscale": [
             [
              0,
              "#0d0887"
             ],
             [
              0.1111111111111111,
              "#46039f"
             ],
             [
              0.2222222222222222,
              "#7201a8"
             ],
             [
              0.3333333333333333,
              "#9c179e"
             ],
             [
              0.4444444444444444,
              "#bd3786"
             ],
             [
              0.5555555555555556,
              "#d8576b"
             ],
             [
              0.6666666666666666,
              "#ed7953"
             ],
             [
              0.7777777777777778,
              "#fb9f3a"
             ],
             [
              0.8888888888888888,
              "#fdca26"
             ],
             [
              1,
              "#f0f921"
             ]
            ],
            "type": "histogram2d"
           }
          ],
          "histogram2dcontour": [
           {
            "colorbar": {
             "outlinewidth": 0,
             "ticks": ""
            },
            "colorscale": [
             [
              0,
              "#0d0887"
             ],
             [
              0.1111111111111111,
              "#46039f"
             ],
             [
              0.2222222222222222,
              "#7201a8"
             ],
             [
              0.3333333333333333,
              "#9c179e"
             ],
             [
              0.4444444444444444,
              "#bd3786"
             ],
             [
              0.5555555555555556,
              "#d8576b"
             ],
             [
              0.6666666666666666,
              "#ed7953"
             ],
             [
              0.7777777777777778,
              "#fb9f3a"
             ],
             [
              0.8888888888888888,
              "#fdca26"
             ],
             [
              1,
              "#f0f921"
             ]
            ],
            "type": "histogram2dcontour"
           }
          ],
          "mesh3d": [
           {
            "colorbar": {
             "outlinewidth": 0,
             "ticks": ""
            },
            "type": "mesh3d"
           }
          ],
          "parcoords": [
           {
            "line": {
             "colorbar": {
              "outlinewidth": 0,
              "ticks": ""
             }
            },
            "type": "parcoords"
           }
          ],
          "pie": [
           {
            "automargin": true,
            "type": "pie"
           }
          ],
          "scatter": [
           {
            "fillpattern": {
             "fillmode": "overlay",
             "size": 10,
             "solidity": 0.2
            },
            "type": "scatter"
           }
          ],
          "scatter3d": [
           {
            "line": {
             "colorbar": {
              "outlinewidth": 0,
              "ticks": ""
             }
            },
            "marker": {
             "colorbar": {
              "outlinewidth": 0,
              "ticks": ""
             }
            },
            "type": "scatter3d"
           }
          ],
          "scattercarpet": [
           {
            "marker": {
             "colorbar": {
              "outlinewidth": 0,
              "ticks": ""
             }
            },
            "type": "scattercarpet"
           }
          ],
          "scattergeo": [
           {
            "marker": {
             "colorbar": {
              "outlinewidth": 0,
              "ticks": ""
             }
            },
            "type": "scattergeo"
           }
          ],
          "scattergl": [
           {
            "marker": {
             "colorbar": {
              "outlinewidth": 0,
              "ticks": ""
             }
            },
            "type": "scattergl"
           }
          ],
          "scattermapbox": [
           {
            "marker": {
             "colorbar": {
              "outlinewidth": 0,
              "ticks": ""
             }
            },
            "type": "scattermapbox"
           }
          ],
          "scatterpolar": [
           {
            "marker": {
             "colorbar": {
              "outlinewidth": 0,
              "ticks": ""
             }
            },
            "type": "scatterpolar"
           }
          ],
          "scatterpolargl": [
           {
            "marker": {
             "colorbar": {
              "outlinewidth": 0,
              "ticks": ""
             }
            },
            "type": "scatterpolargl"
           }
          ],
          "scatterternary": [
           {
            "marker": {
             "colorbar": {
              "outlinewidth": 0,
              "ticks": ""
             }
            },
            "type": "scatterternary"
           }
          ],
          "surface": [
           {
            "colorbar": {
             "outlinewidth": 0,
             "ticks": ""
            },
            "colorscale": [
             [
              0,
              "#0d0887"
             ],
             [
              0.1111111111111111,
              "#46039f"
             ],
             [
              0.2222222222222222,
              "#7201a8"
             ],
             [
              0.3333333333333333,
              "#9c179e"
             ],
             [
              0.4444444444444444,
              "#bd3786"
             ],
             [
              0.5555555555555556,
              "#d8576b"
             ],
             [
              0.6666666666666666,
              "#ed7953"
             ],
             [
              0.7777777777777778,
              "#fb9f3a"
             ],
             [
              0.8888888888888888,
              "#fdca26"
             ],
             [
              1,
              "#f0f921"
             ]
            ],
            "type": "surface"
           }
          ],
          "table": [
           {
            "cells": {
             "fill": {
              "color": "#EBF0F8"
             },
             "line": {
              "color": "white"
             }
            },
            "header": {
             "fill": {
              "color": "#C8D4E3"
             },
             "line": {
              "color": "white"
             }
            },
            "type": "table"
           }
          ]
         },
         "layout": {
          "annotationdefaults": {
           "arrowcolor": "#2a3f5f",
           "arrowhead": 0,
           "arrowwidth": 1
          },
          "autotypenumbers": "strict",
          "coloraxis": {
           "colorbar": {
            "outlinewidth": 0,
            "ticks": ""
           }
          },
          "colorscale": {
           "diverging": [
            [
             0,
             "#8e0152"
            ],
            [
             0.1,
             "#c51b7d"
            ],
            [
             0.2,
             "#de77ae"
            ],
            [
             0.3,
             "#f1b6da"
            ],
            [
             0.4,
             "#fde0ef"
            ],
            [
             0.5,
             "#f7f7f7"
            ],
            [
             0.6,
             "#e6f5d0"
            ],
            [
             0.7,
             "#b8e186"
            ],
            [
             0.8,
             "#7fbc41"
            ],
            [
             0.9,
             "#4d9221"
            ],
            [
             1,
             "#276419"
            ]
           ],
           "sequential": [
            [
             0,
             "#0d0887"
            ],
            [
             0.1111111111111111,
             "#46039f"
            ],
            [
             0.2222222222222222,
             "#7201a8"
            ],
            [
             0.3333333333333333,
             "#9c179e"
            ],
            [
             0.4444444444444444,
             "#bd3786"
            ],
            [
             0.5555555555555556,
             "#d8576b"
            ],
            [
             0.6666666666666666,
             "#ed7953"
            ],
            [
             0.7777777777777778,
             "#fb9f3a"
            ],
            [
             0.8888888888888888,
             "#fdca26"
            ],
            [
             1,
             "#f0f921"
            ]
           ],
           "sequentialminus": [
            [
             0,
             "#0d0887"
            ],
            [
             0.1111111111111111,
             "#46039f"
            ],
            [
             0.2222222222222222,
             "#7201a8"
            ],
            [
             0.3333333333333333,
             "#9c179e"
            ],
            [
             0.4444444444444444,
             "#bd3786"
            ],
            [
             0.5555555555555556,
             "#d8576b"
            ],
            [
             0.6666666666666666,
             "#ed7953"
            ],
            [
             0.7777777777777778,
             "#fb9f3a"
            ],
            [
             0.8888888888888888,
             "#fdca26"
            ],
            [
             1,
             "#f0f921"
            ]
           ]
          },
          "colorway": [
           "#636efa",
           "#EF553B",
           "#00cc96",
           "#ab63fa",
           "#FFA15A",
           "#19d3f3",
           "#FF6692",
           "#B6E880",
           "#FF97FF",
           "#FECB52"
          ],
          "font": {
           "color": "#2a3f5f"
          },
          "geo": {
           "bgcolor": "white",
           "lakecolor": "white",
           "landcolor": "#E5ECF6",
           "showlakes": true,
           "showland": true,
           "subunitcolor": "white"
          },
          "hoverlabel": {
           "align": "left"
          },
          "hovermode": "closest",
          "mapbox": {
           "style": "light"
          },
          "paper_bgcolor": "white",
          "plot_bgcolor": "#E5ECF6",
          "polar": {
           "angularaxis": {
            "gridcolor": "white",
            "linecolor": "white",
            "ticks": ""
           },
           "bgcolor": "#E5ECF6",
           "radialaxis": {
            "gridcolor": "white",
            "linecolor": "white",
            "ticks": ""
           }
          },
          "scene": {
           "xaxis": {
            "backgroundcolor": "#E5ECF6",
            "gridcolor": "white",
            "gridwidth": 2,
            "linecolor": "white",
            "showbackground": true,
            "ticks": "",
            "zerolinecolor": "white"
           },
           "yaxis": {
            "backgroundcolor": "#E5ECF6",
            "gridcolor": "white",
            "gridwidth": 2,
            "linecolor": "white",
            "showbackground": true,
            "ticks": "",
            "zerolinecolor": "white"
           },
           "zaxis": {
            "backgroundcolor": "#E5ECF6",
            "gridcolor": "white",
            "gridwidth": 2,
            "linecolor": "white",
            "showbackground": true,
            "ticks": "",
            "zerolinecolor": "white"
           }
          },
          "shapedefaults": {
           "line": {
            "color": "#2a3f5f"
           }
          },
          "ternary": {
           "aaxis": {
            "gridcolor": "white",
            "linecolor": "white",
            "ticks": ""
           },
           "baxis": {
            "gridcolor": "white",
            "linecolor": "white",
            "ticks": ""
           },
           "bgcolor": "#E5ECF6",
           "caxis": {
            "gridcolor": "white",
            "linecolor": "white",
            "ticks": ""
           }
          },
          "title": {
           "x": 0.05
          },
          "xaxis": {
           "automargin": true,
           "gridcolor": "white",
           "linecolor": "white",
           "ticks": "",
           "title": {
            "standoff": 15
           },
           "zerolinecolor": "white",
           "zerolinewidth": 2
          },
          "yaxis": {
           "automargin": true,
           "gridcolor": "white",
           "linecolor": "white",
           "ticks": "",
           "title": {
            "standoff": 15
           },
           "zerolinecolor": "white",
           "zerolinewidth": 2
          }
         }
        },
        "title": {
         "text": "<b>Influenza</b> Predictions",
         "x": 0.5
        },
        "xaxis": {
         "title": {
          "text": "Number of weeks"
         }
        },
        "yaxis": {
         "tickformat": ".2e",
         "title": {
          "text": "ILI Cases"
         }
        }
       }
      }
     },
     "metadata": {},
     "output_type": "display_data"
    }
   ],
   "source": [
    "import pandas as pd\n",
    "\n",
    "ci = response.get('confidence_interval')\n",
    "df = pd.DataFrame({'actual_data': response.get('actual_data'), 'predictions': response.get('predictions')})\n",
    "df['week'] = range(1, len(df)+1)\n",
    "df['predictions_upper'] = df['predictions'] + df['predictions']* 0.01 * ci\n",
    "df['predictions_lower'] = df['predictions'] - df['predictions']* 0.01 * ci\n",
    "\n",
    "\n",
    "# num_weeks = [range(1, len(response.get('predictions'))+1)]\n",
    "df\n",
    "import plotly.graph_objects as go\n",
    "\n",
    "\n",
    "fig = go.Figure()\n",
    "\n",
    "fig.add_trace(\n",
    "    go.Line(\n",
    "        name='Actual Data',\n",
    "        x=df['week'],\n",
    "        y=df['actual_data']\n",
    "    )\n",
    ")\n",
    "\n",
    "\n",
    "fig.add_trace(\n",
    "    go.Line(\n",
    "        name='Predictions',\n",
    "        x=df['week'],\n",
    "        y=df['predictions'],\n",
    "\n",
    "    )\n",
    ")\n",
    "\n",
    "fig.add_trace(\n",
    "    go.Scatter(\n",
    "        name='Upper Bound',\n",
    "        x=df['week'],\n",
    "        y=df['predictions_upper'],\n",
    "        mode='lines',\n",
    "        marker=dict(color=\"#444\"),\n",
    "        line=dict(width=0),\n",
    "        showlegend=False,\n",
    "    )\n",
    ")\n",
    "fig.add_trace(\n",
    "    go.Scatter(\n",
    "        name='Lower Bound',\n",
    "        x=df['week'],\n",
    "        y=df['predictions_lower'],\n",
    "        marker=dict(color=\"#444\"),\n",
    "        line=dict(width=0),\n",
    "        mode='lines',\n",
    "        fillcolor='rgba(68, 0, 0, 0.2)',\n",
    "        fill='tonexty',\n",
    "        showlegend=False\n",
    "    )\n",
    ")\n",
    "\n",
    "fig.update_layout(\n",
    "    xaxis={'title': \"Number of weeks\"},\n",
    "    yaxis= {'title': \"ILI Cases\", 'tickformat':'.2e'},\n",
    "    title=\"<b>Influenza</b> Predictions\",\n",
    "    title_x=0.5,\n",
    ")\n",
    "\n",
    "fig.show()"
   ]
  },
  {
   "cell_type": "code",
   "execution_count": null,
   "metadata": {},
   "outputs": [],
   "source": []
  },
  {
   "attachments": {},
   "cell_type": "markdown",
   "metadata": {},
   "source": [
    "# FULL SCRATCHPAD"
   ]
  },
  {
   "cell_type": "code",
   "execution_count": 57,
   "metadata": {},
   "outputs": [
    {
     "name": "stdout",
     "output_type": "stream",
     "text": [
      "Epoch 1/5\n",
      "1/1 [==============================] - 5s 5s/step - loss: 0.7916\n",
      "Epoch 2/5\n",
      "1/1 [==============================] - 0s 50ms/step - loss: 0.7363\n",
      "Epoch 3/5\n",
      "1/1 [==============================] - 0s 74ms/step - loss: 0.6760\n",
      "Epoch 4/5\n",
      "1/1 [==============================] - 0s 69ms/step - loss: 0.6327\n",
      "Epoch 5/5\n",
      "1/1 [==============================] - 0s 72ms/step - loss: 0.6137\n",
      "2/2 [==============================] - 1s 12ms/step\n"
     ]
    },
    {
     "ename": "IndexError",
     "evalue": "invalid index to scalar variable.",
     "output_type": "error",
     "traceback": [
      "\u001b[0;31m---------------------------------------------------------------------------\u001b[0m",
      "\u001b[0;31mIndexError\u001b[0m                                Traceback (most recent call last)",
      "Cell \u001b[0;32mIn[57], line 23\u001b[0m\n\u001b[1;32m     21\u001b[0m response[\u001b[39m'\u001b[39m\u001b[39mhistory\u001b[39m\u001b[39m'\u001b[39m] \u001b[39m=\u001b[39m history\n\u001b[1;32m     22\u001b[0m pred \u001b[39m=\u001b[39m model1\u001b[39m.\u001b[39mpredict(testX)\n\u001b[0;32m---> 23\u001b[0m pred_unnorm \u001b[39m=\u001b[39m (pred \u001b[39m*\u001b[39m std[\u001b[39m0\u001b[39;49m]) \u001b[39m+\u001b[39m mean[\u001b[39m0\u001b[39m]\n\u001b[1;32m     24\u001b[0m testy_unnorm \u001b[39m=\u001b[39m (testy \u001b[39m*\u001b[39m std[\u001b[39m0\u001b[39m]) \u001b[39m+\u001b[39m mean[\u001b[39m0\u001b[39m]\n\u001b[1;32m     26\u001b[0m response[\u001b[39m'\u001b[39m\u001b[39mpredictions\u001b[39m\u001b[39m'\u001b[39m] \u001b[39m=\u001b[39m pred_unnorm\u001b[39m.\u001b[39mreshape(testy\u001b[39m.\u001b[39mshape[\u001b[39m0\u001b[39m])\n",
      "\u001b[0;31mIndexError\u001b[0m: invalid index to scalar variable."
     ]
    }
   ],
   "source": [
    "batch_size = 200\n",
    "\n",
    "train_test_split = 0.75\n",
    "trainX, testX = X[:round(X.shape[0]*train_test_split)].to_numpy(), X[round(X.shape[0]*train_test_split):].to_numpy() \n",
    "trainy, testy = y[:round(y.shape[0]*train_test_split)].to_numpy(), y[round(y.shape[0]*train_test_split):].to_numpy()\n",
    "trainX = np.reshape(trainX, (trainX.shape[0], trainX.shape[1], 1))\n",
    "testX = np.reshape(testX, (testX.shape[0], testX.shape[1], 1))\n",
    "trainy = np.reshape(trainy, (trainy.shape[0], trainy.shape[1], 1))\n",
    "testy = np.reshape(testy, (testy.shape[0], testy.shape[1], 1))\n",
    "\n",
    "model1 = Sequential()\n",
    "model1.add(LSTM(327, input_shape=(trainX.shape[1], trainX.shape[2])))\n",
    "model1.add(Dropout(rate=0.1))\n",
    "model1.add(Dense(1))\n",
    "\n",
    "model1.compile(loss='mse', optimizer='adam')\n",
    "\n",
    "response = {}\n",
    "\n",
    "history = model1.fit(trainX, trainy, batch_size=batch_size, epochs=5, shuffle=False)\n",
    "response['history'] = history\n",
    "pred = model1.predict(testX)\n",
    "pred_unnorm = (pred * std[0]) + mean[0]\n",
    "testy_unnorm = (testy * std[0]) + mean[0]\n",
    "\n",
    "response['predictions'] = pred_unnorm.reshape(testy.shape[0])\n",
    "response['actual_data'] = testy_unnorm.reshape(testy.shape[0])\n",
    "response['confidence_interval'] = ci"
   ]
  },
  {
   "cell_type": "code",
   "execution_count": null,
   "metadata": {},
   "outputs": [],
   "source": []
  }
 ],
 "metadata": {
  "kernelspec": {
   "display_name": ".venv",
   "language": "python",
   "name": "python3"
  },
  "language_info": {
   "codemirror_mode": {
    "name": "ipython",
    "version": 3
   },
   "file_extension": ".py",
   "mimetype": "text/x-python",
   "name": "python",
   "nbconvert_exporter": "python",
   "pygments_lexer": "ipython3",
   "version": "3.10.6"
  },
  "orig_nbformat": 4,
  "vscode": {
   "interpreter": {
    "hash": "356418cca1fea68b393bf2557d0dd8a61aa7dd2fa572c9bf7f4836d3ee17e65f"
   }
  }
 },
 "nbformat": 4,
 "nbformat_minor": 2
}
